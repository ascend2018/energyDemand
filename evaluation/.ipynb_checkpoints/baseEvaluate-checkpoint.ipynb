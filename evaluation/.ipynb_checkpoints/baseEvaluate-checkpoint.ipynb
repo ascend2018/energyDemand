{
 "cells": [
  {
   "cell_type": "markdown",
   "metadata": {},
   "source": [
    "# Evaluates our Base Model\n",
    "I have not implemented a test set yet so this uses the validation set\n",
    "and just generates some basic stats and pictures "
   ]
  },
  {
   "cell_type": "code",
   "execution_count": 1,
   "metadata": {},
   "outputs": [],
   "source": [
    "%load_ext autoreload\n",
    "%autoreload 2"
   ]
  },
  {
   "cell_type": "code",
   "execution_count": 2,
   "metadata": {},
   "outputs": [],
   "source": [
    "import os\n",
    "import pandas as pd\n",
    "import numpy as np\n",
    "import torch\n",
    "from torch.utils.data import DataLoader\n",
    "import torch.nn as nn\n",
    "from datetime import datetime\n",
    "import re\n",
    "import importlib\n",
    "\n",
    "import sys\n",
    "sys.path.append(\"..\")\n",
    "\n",
    "from modelUtils import loadCheckpoint, plotPredVsTrue, dotDict\n",
    "from dataUtils import loadEnergyData, processData, energyDataset, getDatasets, normalizeAdjMat\n",
    "from models.baseSTGCN import STGCN"
   ]
  },
  {
   "cell_type": "code",
   "execution_count": 3,
   "metadata": {},
   "outputs": [
    {
     "name": "stdout",
     "output_type": "stream",
     "text": [
      "{'historical_input': 24, 'forecast_output': 24, 'subset_feats': ['load', 'node', 'solar_ecmwf'], 'save_seq': False, 'load_seq': True, 'seq_path': './data/processed/nodeSequences', 'processing_function': <function processData at 0x000002099A1651E0>, 'device': 'cuda', 'epochs': 200, 'batch_size': 64, 'lr': 0.001, 'model_name': 'baselineSTGCN.pth'}\n"
     ]
    }
   ],
   "source": [
    "# params\n",
    "torch.manual_seed(0)\n",
    "np.random.seed(0)\n",
    "\n",
    "##### Load our args\n",
    "config_file = \"baseSTGCN_config\"\n",
    "c = importlib.import_module(\"configs.\"+config_file)\n",
    "args = c.args\n",
    "\n",
    "print(args)\n",
    "\n",
    "# update args for evaluation purposes\n",
    "args.save_seq = False\n",
    "args.load_seq = True\n",
    "args.seq_path = os.path.join(\".\" + args.seq_path, \"testingOnly\")\n",
    "\n",
    "\n",
    "processed_dir = \"../data/processed/\"\n",
    "\n",
    "# loss functions to compute\n",
    "mae_criterion = nn.L1Loss()\n",
    "mse_criterion = nn.MSELoss()"
   ]
  },
  {
   "cell_type": "code",
   "execution_count": 4,
   "metadata": {},
   "outputs": [
    {
     "name": "stderr",
     "output_type": "stream",
     "text": [
      "C:\\Users\\ABell\\Anaconda3\\lib\\site-packages\\pyarrow\\pandas_compat.py:708: FutureWarning: .labels was deprecated in version 0.24.0. Use .codes instead.\n",
      "  labels = getattr(columns, 'labels', None) or [\n",
      "C:\\Users\\ABell\\Anaconda3\\lib\\site-packages\\pyarrow\\pandas_compat.py:735: FutureWarning: the 'labels' keyword is deprecated, use 'codes' instead\n",
      "  return pd.MultiIndex(levels=new_levels, labels=labels, names=columns.names)\n",
      "C:\\Users\\ABell\\Anaconda3\\lib\\site-packages\\pyarrow\\pandas_compat.py:752: FutureWarning: .labels was deprecated in version 0.24.0. Use .codes instead.\n",
      "  labels, = index.labels\n"
     ]
    },
    {
     "data": {
      "text/html": [
       "<div>\n",
       "<style scoped>\n",
       "    .dataframe tbody tr th:only-of-type {\n",
       "        vertical-align: middle;\n",
       "    }\n",
       "\n",
       "    .dataframe tbody tr th {\n",
       "        vertical-align: top;\n",
       "    }\n",
       "\n",
       "    .dataframe thead th {\n",
       "        text-align: right;\n",
       "    }\n",
       "</style>\n",
       "<table border=\"1\" class=\"dataframe\">\n",
       "  <thead>\n",
       "    <tr style=\"text-align: right;\">\n",
       "      <th></th>\n",
       "      <th>hour</th>\n",
       "      <th>dow</th>\n",
       "      <th>month</th>\n",
       "      <th>year</th>\n",
       "      <th>holiday</th>\n",
       "      <th>voltage</th>\n",
       "      <th>solar_cosmo</th>\n",
       "      <th>solar_ecmwf</th>\n",
       "      <th>wind_cosmo</th>\n",
       "      <th>wind_ecmwf</th>\n",
       "      <th>load</th>\n",
       "    </tr>\n",
       "  </thead>\n",
       "  <tbody>\n",
       "    <tr>\n",
       "      <th>count</th>\n",
       "      <td>499776.000000</td>\n",
       "      <td>499776.000000</td>\n",
       "      <td>499776.000000</td>\n",
       "      <td>499776.000000</td>\n",
       "      <td>499776.000000</td>\n",
       "      <td>499776.0</td>\n",
       "      <td>499757.000000</td>\n",
       "      <td>499776.000000</td>\n",
       "      <td>499776.000000</td>\n",
       "      <td>499776.000000</td>\n",
       "      <td>499776.000000</td>\n",
       "    </tr>\n",
       "    <tr>\n",
       "      <th>mean</th>\n",
       "      <td>11.500000</td>\n",
       "      <td>2.997263</td>\n",
       "      <td>6.521898</td>\n",
       "      <td>2012.999088</td>\n",
       "      <td>0.028285</td>\n",
       "      <td>380.0</td>\n",
       "      <td>0.249442</td>\n",
       "      <td>0.293798</td>\n",
       "      <td>0.158365</td>\n",
       "      <td>0.132349</td>\n",
       "      <td>198.752987</td>\n",
       "    </tr>\n",
       "    <tr>\n",
       "      <th>std</th>\n",
       "      <td>6.922193</td>\n",
       "      <td>2.001596</td>\n",
       "      <td>3.448990</td>\n",
       "      <td>0.816683</td>\n",
       "      <td>0.165785</td>\n",
       "      <td>0.0</td>\n",
       "      <td>0.374604</td>\n",
       "      <td>0.420520</td>\n",
       "      <td>0.181058</td>\n",
       "      <td>0.161001</td>\n",
       "      <td>286.553368</td>\n",
       "    </tr>\n",
       "    <tr>\n",
       "      <th>min</th>\n",
       "      <td>0.000000</td>\n",
       "      <td>0.000000</td>\n",
       "      <td>1.000000</td>\n",
       "      <td>2012.000000</td>\n",
       "      <td>0.000000</td>\n",
       "      <td>380.0</td>\n",
       "      <td>0.000000</td>\n",
       "      <td>0.000000</td>\n",
       "      <td>0.001300</td>\n",
       "      <td>0.000800</td>\n",
       "      <td>5.869500</td>\n",
       "    </tr>\n",
       "    <tr>\n",
       "      <th>25%</th>\n",
       "      <td>5.750000</td>\n",
       "      <td>1.000000</td>\n",
       "      <td>4.000000</td>\n",
       "      <td>2012.000000</td>\n",
       "      <td>0.000000</td>\n",
       "      <td>380.0</td>\n",
       "      <td>0.000000</td>\n",
       "      <td>0.000000</td>\n",
       "      <td>0.029700</td>\n",
       "      <td>0.023500</td>\n",
       "      <td>58.023800</td>\n",
       "    </tr>\n",
       "    <tr>\n",
       "      <th>50%</th>\n",
       "      <td>11.500000</td>\n",
       "      <td>3.000000</td>\n",
       "      <td>7.000000</td>\n",
       "      <td>2013.000000</td>\n",
       "      <td>0.000000</td>\n",
       "      <td>380.0</td>\n",
       "      <td>0.000000</td>\n",
       "      <td>0.000000</td>\n",
       "      <td>0.087700</td>\n",
       "      <td>0.070500</td>\n",
       "      <td>104.943300</td>\n",
       "    </tr>\n",
       "    <tr>\n",
       "      <th>75%</th>\n",
       "      <td>17.250000</td>\n",
       "      <td>5.000000</td>\n",
       "      <td>10.000000</td>\n",
       "      <td>2014.000000</td>\n",
       "      <td>0.000000</td>\n",
       "      <td>380.0</td>\n",
       "      <td>0.460600</td>\n",
       "      <td>0.605100</td>\n",
       "      <td>0.222000</td>\n",
       "      <td>0.177300</td>\n",
       "      <td>207.683200</td>\n",
       "    </tr>\n",
       "    <tr>\n",
       "      <th>max</th>\n",
       "      <td>23.000000</td>\n",
       "      <td>6.000000</td>\n",
       "      <td>12.000000</td>\n",
       "      <td>2014.000000</td>\n",
       "      <td>1.000000</td>\n",
       "      <td>380.0</td>\n",
       "      <td>1.369200</td>\n",
       "      <td>1.454100</td>\n",
       "      <td>0.999600</td>\n",
       "      <td>0.999200</td>\n",
       "      <td>1923.441300</td>\n",
       "    </tr>\n",
       "  </tbody>\n",
       "</table>\n",
       "</div>"
      ],
      "text/plain": [
       "                hour            dow          month           year  \\\n",
       "count  499776.000000  499776.000000  499776.000000  499776.000000   \n",
       "mean       11.500000       2.997263       6.521898    2012.999088   \n",
       "std         6.922193       2.001596       3.448990       0.816683   \n",
       "min         0.000000       0.000000       1.000000    2012.000000   \n",
       "25%         5.750000       1.000000       4.000000    2012.000000   \n",
       "50%        11.500000       3.000000       7.000000    2013.000000   \n",
       "75%        17.250000       5.000000      10.000000    2014.000000   \n",
       "max        23.000000       6.000000      12.000000    2014.000000   \n",
       "\n",
       "             holiday   voltage    solar_cosmo    solar_ecmwf     wind_cosmo  \\\n",
       "count  499776.000000  499776.0  499757.000000  499776.000000  499776.000000   \n",
       "mean        0.028285     380.0       0.249442       0.293798       0.158365   \n",
       "std         0.165785       0.0       0.374604       0.420520       0.181058   \n",
       "min         0.000000     380.0       0.000000       0.000000       0.001300   \n",
       "25%         0.000000     380.0       0.000000       0.000000       0.029700   \n",
       "50%         0.000000     380.0       0.000000       0.000000       0.087700   \n",
       "75%         0.000000     380.0       0.460600       0.605100       0.222000   \n",
       "max         1.000000     380.0       1.369200       1.454100       0.999600   \n",
       "\n",
       "          wind_ecmwf           load  \n",
       "count  499776.000000  499776.000000  \n",
       "mean        0.132349     198.752987  \n",
       "std         0.161001     286.553368  \n",
       "min         0.000800       5.869500  \n",
       "25%         0.023500      58.023800  \n",
       "50%         0.070500     104.943300  \n",
       "75%         0.177300     207.683200  \n",
       "max         0.999200    1923.441300  "
      ]
     },
     "execution_count": 4,
     "metadata": {},
     "output_type": "execute_result"
    }
   ],
   "source": [
    "energy_demand, adj_mat = loadEnergyData(processed_dir, incl_nodes = 20, partial = True)\n",
    "energy_demand.describe()"
   ]
  },
  {
   "cell_type": "code",
   "execution_count": 5,
   "metadata": {},
   "outputs": [
    {
     "name": "stderr",
     "output_type": "stream",
     "text": [
      "..\\dataUtils.py:101: RuntimeWarning: divide by zero encountered in power\n",
      "  D_norm = D**(-(1/2))\n"
     ]
    },
    {
     "data": {
      "text/plain": [
       "(torch.Size([90, 1049, 24, 2]),\n",
       " torch.Size([90, 1049, 24]),\n",
       " torch.Size([1049, 1049]))"
      ]
     },
     "execution_count": 5,
     "metadata": {},
     "output_type": "execute_result"
    }
   ],
   "source": [
    "# Get validation data\n",
    "if args.load_seq:\n",
    "    # get number of nodes to include\n",
    "    files = os.listdir(args.seq_path)\n",
    "    incl_nodes = max([int(re.search(\"\\d{1,5}\", f).group(0)) for f in files])\n",
    "    _, adj_mat = loadEnergyData(processed_dir, incl_nodes = incl_nodes, partial = False)\n",
    "    energy_demand = None\n",
    "else:\n",
    "    energy_demand, adj_mat = loadEnergyData(processed_dir, incl_nodes = 20, partial = True)\n",
    "\n",
    "_, val_dataset = getDatasets(args, energy_demand, validation_only = True)\n",
    "\n",
    "val_loader = DataLoader(val_dataset, batch_size=args['batch_size'], shuffle=False)\n",
    "\n",
    "\n",
    "# normalized adjacency matrix with self loop\n",
    "adj_norm = normalizeAdjMat(adj_mat)\n",
    "adj_norm = adj_norm.to(args['device']) \n",
    "\n",
    "val_dataset.inputs.shape, val_dataset.target.shape, adj_norm.shape"
   ]
  },
  {
   "cell_type": "code",
   "execution_count": 6,
   "metadata": {},
   "outputs": [
    {
     "data": {
      "text/plain": [
       "STGCN(\n",
       "  (block1): spatioTemporalBlock(\n",
       "    (t1): temporalConv(\n",
       "      (conv1): Conv2d(2, 64, kernel_size=(1, 3), stride=(1, 1))\n",
       "      (conv2): Conv2d(2, 64, kernel_size=(1, 3), stride=(1, 1))\n",
       "      (conv3): Conv2d(2, 64, kernel_size=(1, 3), stride=(1, 1))\n",
       "    )\n",
       "    (t2): temporalConv(\n",
       "      (conv1): Conv2d(16, 64, kernel_size=(1, 3), stride=(1, 1))\n",
       "      (conv2): Conv2d(16, 64, kernel_size=(1, 3), stride=(1, 1))\n",
       "      (conv3): Conv2d(16, 64, kernel_size=(1, 3), stride=(1, 1))\n",
       "    )\n",
       "    (batch_norm): BatchNorm2d(1049, eps=1e-05, momentum=0.1, affine=True, track_running_stats=True)\n",
       "  )\n",
       "  (block2): spatioTemporalBlock(\n",
       "    (t1): temporalConv(\n",
       "      (conv1): Conv2d(64, 64, kernel_size=(1, 3), stride=(1, 1))\n",
       "      (conv2): Conv2d(64, 64, kernel_size=(1, 3), stride=(1, 1))\n",
       "      (conv3): Conv2d(64, 64, kernel_size=(1, 3), stride=(1, 1))\n",
       "    )\n",
       "    (t2): temporalConv(\n",
       "      (conv1): Conv2d(16, 64, kernel_size=(1, 3), stride=(1, 1))\n",
       "      (conv2): Conv2d(16, 64, kernel_size=(1, 3), stride=(1, 1))\n",
       "      (conv3): Conv2d(16, 64, kernel_size=(1, 3), stride=(1, 1))\n",
       "    )\n",
       "    (batch_norm): BatchNorm2d(1049, eps=1e-05, momentum=0.1, affine=True, track_running_stats=True)\n",
       "  )\n",
       "  (final_temporal): temporalConv(\n",
       "    (conv1): Conv2d(64, 64, kernel_size=(1, 3), stride=(1, 1))\n",
       "    (conv2): Conv2d(64, 64, kernel_size=(1, 3), stride=(1, 1))\n",
       "    (conv3): Conv2d(64, 64, kernel_size=(1, 3), stride=(1, 1))\n",
       "  )\n",
       "  (fc_out): Linear(in_features=896, out_features=24, bias=True)\n",
       ")"
      ]
     },
     "execution_count": 6,
     "metadata": {},
     "output_type": "execute_result"
    }
   ],
   "source": [
    "# Model init\n",
    "num_nodes = val_dataset.target.shape[1]\n",
    "num_features = val_dataset.inputs.shape[3]\n",
    "\n",
    "Gnet = STGCN(num_nodes,\n",
    "             num_features,\n",
    "             args.historical_input,\n",
    "             args.forecast_output).to(device=args.device)\n",
    "\n",
    "model = loadCheckpoint(Gnet, filename = \"baselineSTGCN.pth\", folder = '../savedModels')\n",
    "model"
   ]
  },
  {
   "cell_type": "code",
   "execution_count": 7,
   "metadata": {},
   "outputs": [
    {
     "name": "stdout",
     "output_type": "stream",
     "text": [
      "Mean Absolute Error: 0.019959796220064163\n",
      "Mean Squared Error: 0.0017063196282833815\n",
      "Root Mean Squared Error: 0.04125964641571045\n"
     ]
    }
   ],
   "source": [
    "# Get Predictions\n",
    "val_predictions = []\n",
    "val_target = []\n",
    "\n",
    "mae_list = []\n",
    "mse_list = []\n",
    "rmse_list = []\n",
    "\n",
    "with torch.no_grad():\n",
    "    Gnet.eval()\n",
    "    for vbatch_idx, (vfeatures, vtarget) in enumerate(val_loader):\n",
    "        vfeatures = vfeatures.to(args.device)\n",
    "        vtarget = vtarget.to(args.device)\n",
    "\n",
    "        # predict \n",
    "        vpreds = Gnet(vfeatures, adj_norm)\n",
    "        mse_loss = mse_criterion(vpreds, vtarget)\n",
    "        mae_loss = mae_criterion(vpreds, vtarget)\n",
    "        rmse_loss = torch.sqrt(mse_criterion(vpreds, vtarget))\n",
    "\n",
    "        # storage and tracking\n",
    "        mse_list.append(mse_loss.detach().cpu().numpy())\n",
    "        mae_list.append(mae_loss.detach().cpu().numpy())\n",
    "        rmse_list.append(rmse_loss.detach().cpu().numpy())\n",
    "        \n",
    "        # store preds and target in correct order\n",
    "        np_vpreds = vpreds.detach().cpu().numpy()\n",
    "        np_vtarget = vtarget.detach().cpu().numpy()\n",
    "        val_predictions.append(np_vpreds)\n",
    "        val_target.append(np_vtarget)\n",
    "        \n",
    "val_predictions = np.concatenate(val_predictions)\n",
    "val_target = np.concatenate(val_target)\n",
    "\n",
    "mae = np.mean(mae_list)\n",
    "mse = np.mean(mse_list)\n",
    "rmse = np.mean(rmse_list)\n",
    "\n",
    "print(f\"Mean Absolute Error: {mae}\")\n",
    "print(f\"Mean Squared Error: {mse}\")\n",
    "print(f\"Root Mean Squared Error: {rmse}\")"
   ]
  },
  {
   "cell_type": "code",
   "execution_count": 8,
   "metadata": {},
   "outputs": [
    {
     "data": {
      "image/png": "[encoded data removed]",
      "text/plain": [
       "<Figure size 432x288 with 1 Axes>"
      ]
     },
     "metadata": {
      "needs_background": "light"
     },
     "output_type": "display_data"
    }
   ],
   "source": [
    "plotPredVsTrue(val_target, val_predictions, 0, 100)"
   ]
  },
  {
   "cell_type": "code",
   "execution_count": 9,
   "metadata": {},
   "outputs": [
    {
     "data": {
      "image/png": "[encoded data removed]",
      "text/plain": [
       "<Figure size 432x288 with 1 Axes>"
      ]
     },
     "metadata": {
      "needs_background": "light"
     },
     "output_type": "display_data"
    }
   ],
   "source": [
    "plotPredVsTrue(val_target, val_predictions, 0, 1)"
   ]
  },
  {
   "cell_type": "code",
   "execution_count": 10,
   "metadata": {
    "scrolled": true
   },
   "outputs": [
    {
     "data": {
      "image/png": "[encoded data removed]",
      "text/plain": [
       "<Figure size 432x288 with 1 Axes>"
      ]
     },
     "metadata": {
      "needs_background": "light"
     },
     "output_type": "display_data"
    }
   ],
   "source": [
    "plotPredVsTrue(val_target, val_predictions, 10, 8)"
   ]
  },
  {
   "cell_type": "code",
   "execution_count": 20,
   "metadata": {},
   "outputs": [
    {
     "data": {
      "text/plain": [
       "(array([0.01621512, 0.01461033, 0.01919115, 0.0184972 , 0.02286915,\n",
       "        0.01992133, 0.01959347, 0.01966734, 0.02326581, 0.03054113,\n",
       "        0.02291157, 0.02459358, 0.0233627 , 0.02467331, 0.02406142,\n",
       "        0.02059576, 0.0199578 , 0.02556959, 0.02566602, 0.02618189,\n",
       "        0.02550337, 0.02485958, 0.02256554, 0.02106611], dtype=float32),\n",
       " array([0.01535778, 0.01415234, 0.01840019, 0.01553392, 0.02197715,\n",
       "        0.02200303, 0.01873225, 0.02066626, 0.0229096 , 0.02639304,\n",
       "        0.02443568, 0.02474236, 0.02367346, 0.0231261 , 0.02359913,\n",
       "        0.01962743, 0.02092107, 0.02326898, 0.02497473, 0.02809148,\n",
       "        0.02561032, 0.0246834 , 0.02208859, 0.02231592], dtype=float32))"
      ]
     },
     "execution_count": 20,
     "metadata": {},
     "output_type": "execute_result"
    }
   ],
   "source": [
    "val_predictions[0][0], val_predictions[0][1]"
   ]
  },
  {
   "cell_type": "code",
   "execution_count": 21,
   "metadata": {},
   "outputs": [
    {
     "data": {
      "text/plain": [
       "(array([0.02152224, 0.02119029, 0.0220986 , 0.02608934, 0.03156474,\n",
       "        0.03390665, 0.03445383, 0.0347566 , 0.03503749, 0.03481496,\n",
       "        0.03377898, 0.03334853, 0.03294363, 0.03261532, 0.03234903,\n",
       "        0.03224323, 0.0336513 , 0.03287797, 0.0304558 , 0.02780747,\n",
       "        0.02672771, 0.02425812, 0.02289748, 0.0218542 ], dtype=float32),\n",
       " array([0.03528626, 0.03474201, 0.03623121, 0.04277413, 0.0517512 ,\n",
       "        0.05559082, 0.05648793, 0.05698432, 0.05744484, 0.05708002,\n",
       "        0.0553815 , 0.05467577, 0.0540119 , 0.05347365, 0.05303705,\n",
       "        0.05286361, 0.05517217, 0.05390425, 0.04993305, 0.04559105,\n",
       "        0.04382075, 0.03977181, 0.037541  , 0.03583051], dtype=float32))"
      ]
     },
     "execution_count": 21,
     "metadata": {},
     "output_type": "execute_result"
    }
   ],
   "source": [
    "val_target[0][0], val_target[0][1]"
   ]
  },
  {
   "cell_type": "code",
   "execution_count": null,
   "metadata": {},
   "outputs": [],
   "source": []
  }
 ],
 "metadata": {
  "kernelspec": {
   "display_name": "Python 3",
   "language": "python",
   "name": "python3"
  },
  "language_info": {
   "codemirror_mode": {
    "name": "ipython",
    "version": 3
   },
   "file_extension": ".py",
   "mimetype": "text/x-python",
   "name": "python",
   "nbconvert_exporter": "python",
   "pygments_lexer": "ipython3",
   "version": "3.7.0"
  }
 },
 "nbformat": 4,
 "nbformat_minor": 2
}
