{
 "cells": [
  {
   "cell_type": "markdown",
   "metadata": {},
   "source": [
    "# Evaluates our Base Model\n",
    "I have not implemented a test set yet so this uses the validation set\n",
    "and just generates some basic stats and pictures "
   ]
  },
  {
   "cell_type": "code",
   "execution_count": 1,
   "metadata": {},
   "outputs": [],
   "source": [
    "%load_ext autoreload\n",
    "%autoreload 2"
   ]
  },
  {
   "cell_type": "code",
   "execution_count": 2,
   "metadata": {},
   "outputs": [],
   "source": [
    "import os\n",
    "import pandas as pd\n",
    "import numpy as np\n",
    "import torch\n",
    "from torch.utils.data import DataLoader\n",
    "import torch.nn as nn\n",
    "from datetime import datetime\n",
    "import re\n",
    "import importlib\n",
    "\n",
    "import sys\n",
    "sys.path.append(\"..\")\n",
    "\n",
    "from modelUtils import loadCheckpoint, plotPredVsTrue, dotDict\n",
    "from dataUtils import loadEnergyData, processData, energyDataset, getDatasets, normalizeAdjMat\n",
    "from models.baseSTGCN import STGCN"
   ]
  },
  {
   "cell_type": "code",
   "execution_count": 3,
   "metadata": {},
   "outputs": [
    {
     "name": "stdout",
     "output_type": "stream",
     "text": [
      "{'historical_input': 24, 'forecast_output': 24, 'subset_feats': None, 'save_seq': False, 'load_seq': True, 'seq_path': './data/processed/nodeSequences', 'processing_function': <function processData at 0x0000012D10A252F0>, 'device': 'cuda', 'epochs': 200, 'batch_size': 64, 'lr': 0.01, 'model_name': 'baselineSTGCN.pth'}\n"
     ]
    }
   ],
   "source": [
    "# params\n",
    "torch.manual_seed(0)\n",
    "np.random.seed(0)\n",
    "\n",
    "##### Load our args\n",
    "config_file = \"baseSTGCN_config\"\n",
    "c = importlib.import_module(\"configs.\"+config_file)\n",
    "args = c.args\n",
    "\n",
    "print(args)\n",
    "\n",
    "# update args for evaluation purposes\n",
    "args.save_seq = False\n",
    "args.load_seq = True\n",
    "args.seq_path = os.path.join(\".\" + args.seq_path, \"testingOnly\")\n",
    "\n",
    "\n",
    "processed_dir = \"../data/processed/\"\n",
    "\n",
    "# loss functions to compute\n",
    "mae_criterion = nn.L1Loss()\n",
    "mse_criterion = nn.MSELoss()"
   ]
  },
  {
   "cell_type": "code",
   "execution_count": 66,
   "metadata": {},
   "outputs": [
    {
     "data": {
      "text/html": [
       "<div>\n",
       "<style scoped>\n",
       "    .dataframe tbody tr th:only-of-type {\n",
       "        vertical-align: middle;\n",
       "    }\n",
       "\n",
       "    .dataframe tbody tr th {\n",
       "        vertical-align: top;\n",
       "    }\n",
       "\n",
       "    .dataframe thead th {\n",
       "        text-align: right;\n",
       "    }\n",
       "</style>\n",
       "<table border=\"1\" class=\"dataframe\">\n",
       "  <thead>\n",
       "    <tr style=\"text-align: right;\">\n",
       "      <th></th>\n",
       "      <th>hour</th>\n",
       "      <th>dow</th>\n",
       "      <th>month</th>\n",
       "      <th>year</th>\n",
       "      <th>holiday</th>\n",
       "      <th>voltage</th>\n",
       "      <th>solar_cosmo</th>\n",
       "      <th>solar_ecmwf</th>\n",
       "      <th>wind_cosmo</th>\n",
       "      <th>wind_ecmwf</th>\n",
       "      <th>load</th>\n",
       "    </tr>\n",
       "  </thead>\n",
       "  <tbody>\n",
       "    <tr>\n",
       "      <th>count</th>\n",
       "      <td>499776.000000</td>\n",
       "      <td>499776.000000</td>\n",
       "      <td>499776.000000</td>\n",
       "      <td>499776.000000</td>\n",
       "      <td>499776.000000</td>\n",
       "      <td>499776.0</td>\n",
       "      <td>499757.000000</td>\n",
       "      <td>499776.000000</td>\n",
       "      <td>499776.000000</td>\n",
       "      <td>499776.000000</td>\n",
       "      <td>499776.000000</td>\n",
       "    </tr>\n",
       "    <tr>\n",
       "      <th>mean</th>\n",
       "      <td>11.500000</td>\n",
       "      <td>2.997263</td>\n",
       "      <td>6.521898</td>\n",
       "      <td>2012.999088</td>\n",
       "      <td>0.028285</td>\n",
       "      <td>380.0</td>\n",
       "      <td>0.249442</td>\n",
       "      <td>0.293798</td>\n",
       "      <td>0.158365</td>\n",
       "      <td>0.132349</td>\n",
       "      <td>198.752987</td>\n",
       "    </tr>\n",
       "    <tr>\n",
       "      <th>std</th>\n",
       "      <td>6.922193</td>\n",
       "      <td>2.001596</td>\n",
       "      <td>3.448990</td>\n",
       "      <td>0.816683</td>\n",
       "      <td>0.165785</td>\n",
       "      <td>0.0</td>\n",
       "      <td>0.374604</td>\n",
       "      <td>0.420520</td>\n",
       "      <td>0.181058</td>\n",
       "      <td>0.161001</td>\n",
       "      <td>286.553368</td>\n",
       "    </tr>\n",
       "    <tr>\n",
       "      <th>min</th>\n",
       "      <td>0.000000</td>\n",
       "      <td>0.000000</td>\n",
       "      <td>1.000000</td>\n",
       "      <td>2012.000000</td>\n",
       "      <td>0.000000</td>\n",
       "      <td>380.0</td>\n",
       "      <td>0.000000</td>\n",
       "      <td>0.000000</td>\n",
       "      <td>0.001300</td>\n",
       "      <td>0.000800</td>\n",
       "      <td>5.869500</td>\n",
       "    </tr>\n",
       "    <tr>\n",
       "      <th>25%</th>\n",
       "      <td>5.750000</td>\n",
       "      <td>1.000000</td>\n",
       "      <td>4.000000</td>\n",
       "      <td>2012.000000</td>\n",
       "      <td>0.000000</td>\n",
       "      <td>380.0</td>\n",
       "      <td>0.000000</td>\n",
       "      <td>0.000000</td>\n",
       "      <td>0.029700</td>\n",
       "      <td>0.023500</td>\n",
       "      <td>58.023800</td>\n",
       "    </tr>\n",
       "    <tr>\n",
       "      <th>50%</th>\n",
       "      <td>11.500000</td>\n",
       "      <td>3.000000</td>\n",
       "      <td>7.000000</td>\n",
       "      <td>2013.000000</td>\n",
       "      <td>0.000000</td>\n",
       "      <td>380.0</td>\n",
       "      <td>0.000000</td>\n",
       "      <td>0.000000</td>\n",
       "      <td>0.087700</td>\n",
       "      <td>0.070500</td>\n",
       "      <td>104.943300</td>\n",
       "    </tr>\n",
       "    <tr>\n",
       "      <th>75%</th>\n",
       "      <td>17.250000</td>\n",
       "      <td>5.000000</td>\n",
       "      <td>10.000000</td>\n",
       "      <td>2014.000000</td>\n",
       "      <td>0.000000</td>\n",
       "      <td>380.0</td>\n",
       "      <td>0.460600</td>\n",
       "      <td>0.605100</td>\n",
       "      <td>0.222000</td>\n",
       "      <td>0.177300</td>\n",
       "      <td>207.683200</td>\n",
       "    </tr>\n",
       "    <tr>\n",
       "      <th>max</th>\n",
       "      <td>23.000000</td>\n",
       "      <td>6.000000</td>\n",
       "      <td>12.000000</td>\n",
       "      <td>2014.000000</td>\n",
       "      <td>1.000000</td>\n",
       "      <td>380.0</td>\n",
       "      <td>1.369200</td>\n",
       "      <td>1.454100</td>\n",
       "      <td>0.999600</td>\n",
       "      <td>0.999200</td>\n",
       "      <td>1923.441300</td>\n",
       "    </tr>\n",
       "  </tbody>\n",
       "</table>\n",
       "</div>"
      ],
      "text/plain": [
       "                hour            dow          month           year  \\\n",
       "count  499776.000000  499776.000000  499776.000000  499776.000000   \n",
       "mean       11.500000       2.997263       6.521898    2012.999088   \n",
       "std         6.922193       2.001596       3.448990       0.816683   \n",
       "min         0.000000       0.000000       1.000000    2012.000000   \n",
       "25%         5.750000       1.000000       4.000000    2012.000000   \n",
       "50%        11.500000       3.000000       7.000000    2013.000000   \n",
       "75%        17.250000       5.000000      10.000000    2014.000000   \n",
       "max        23.000000       6.000000      12.000000    2014.000000   \n",
       "\n",
       "             holiday   voltage    solar_cosmo    solar_ecmwf     wind_cosmo  \\\n",
       "count  499776.000000  499776.0  499757.000000  499776.000000  499776.000000   \n",
       "mean        0.028285     380.0       0.249442       0.293798       0.158365   \n",
       "std         0.165785       0.0       0.374604       0.420520       0.181058   \n",
       "min         0.000000     380.0       0.000000       0.000000       0.001300   \n",
       "25%         0.000000     380.0       0.000000       0.000000       0.029700   \n",
       "50%         0.000000     380.0       0.000000       0.000000       0.087700   \n",
       "75%         0.000000     380.0       0.460600       0.605100       0.222000   \n",
       "max         1.000000     380.0       1.369200       1.454100       0.999600   \n",
       "\n",
       "          wind_ecmwf           load  \n",
       "count  499776.000000  499776.000000  \n",
       "mean        0.132349     198.752987  \n",
       "std         0.161001     286.553368  \n",
       "min         0.000800       5.869500  \n",
       "25%         0.023500      58.023800  \n",
       "50%         0.070500     104.943300  \n",
       "75%         0.177300     207.683200  \n",
       "max         0.999200    1923.441300  "
      ]
     },
     "execution_count": 66,
     "metadata": {},
     "output_type": "execute_result"
    }
   ],
   "source": [
    "energy_demand, adj_mat = loadEnergyData(processed_dir, incl_nodes = 20, partial = True)\n",
    "energy_demand.describe()"
   ]
  },
  {
   "cell_type": "code",
   "execution_count": 12,
   "metadata": {},
   "outputs": [
    {
     "data": {
      "text/plain": [
       "(torch.Size([90, 1049, 24, 12]),\n",
       " torch.Size([90, 1049, 24]),\n",
       " torch.Size([1049, 1049]))"
      ]
     },
     "execution_count": 12,
     "metadata": {},
     "output_type": "execute_result"
    }
   ],
   "source": [
    "# Get validation data\n",
    "if args.load_seq:\n",
    "    # get number of nodes to include\n",
    "    files = os.listdir(args.seq_path)\n",
    "    incl_nodes = max([int(re.search(\"\\d{1,5}\", f).group(0)) for f in files])\n",
    "    _, adj_mat = loadEnergyData(processed_dir, incl_nodes = incl_nodes, partial = False)\n",
    "    energy_demand = None\n",
    "else:\n",
    "    energy_demand, adj_mat = loadEnergyData(processed_dir, incl_nodes = 20, partial = True)\n",
    "\n",
    "_, val_dataset = getDatasets(args, energy_demand, validation_only = True)\n",
    "\n",
    "val_loader = DataLoader(val_dataset, batch_size=args['batch_size'], shuffle=False)\n",
    "\n",
    "\n",
    "# normalized adjacency matrix with self loop\n",
    "adj_norm = normalizeAdjMat(adj_mat)\n",
    "adj_norm = adj_norm.to(args['device']) \n",
    "\n",
    "val_dataset.inputs.shape, val_dataset.target.shape, adj_norm.shape"
   ]
  },
  {
   "cell_type": "code",
   "execution_count": 14,
   "metadata": {},
   "outputs": [
    {
     "data": {
      "text/plain": [
       "STGCN(\n",
       "  (block1): spatioTemporalBlock(\n",
       "    (t1): temporalConv(\n",
       "      (conv1): Conv2d(12, 64, kernel_size=(1, 3), stride=(1, 1))\n",
       "      (conv2): Conv2d(12, 64, kernel_size=(1, 3), stride=(1, 1))\n",
       "      (conv3): Conv2d(12, 64, kernel_size=(1, 3), stride=(1, 1))\n",
       "    )\n",
       "    (t2): temporalConv(\n",
       "      (conv1): Conv2d(16, 64, kernel_size=(1, 3), stride=(1, 1))\n",
       "      (conv2): Conv2d(16, 64, kernel_size=(1, 3), stride=(1, 1))\n",
       "      (conv3): Conv2d(16, 64, kernel_size=(1, 3), stride=(1, 1))\n",
       "    )\n",
       "    (batch_norm): BatchNorm2d(1049, eps=1e-05, momentum=0.1, affine=True, track_running_stats=True)\n",
       "  )\n",
       "  (block2): spatioTemporalBlock(\n",
       "    (t1): temporalConv(\n",
       "      (conv1): Conv2d(64, 64, kernel_size=(1, 3), stride=(1, 1))\n",
       "      (conv2): Conv2d(64, 64, kernel_size=(1, 3), stride=(1, 1))\n",
       "      (conv3): Conv2d(64, 64, kernel_size=(1, 3), stride=(1, 1))\n",
       "    )\n",
       "    (t2): temporalConv(\n",
       "      (conv1): Conv2d(16, 64, kernel_size=(1, 3), stride=(1, 1))\n",
       "      (conv2): Conv2d(16, 64, kernel_size=(1, 3), stride=(1, 1))\n",
       "      (conv3): Conv2d(16, 64, kernel_size=(1, 3), stride=(1, 1))\n",
       "    )\n",
       "    (batch_norm): BatchNorm2d(1049, eps=1e-05, momentum=0.1, affine=True, track_running_stats=True)\n",
       "  )\n",
       "  (final_temporal): temporalConv(\n",
       "    (conv1): Conv2d(64, 64, kernel_size=(1, 3), stride=(1, 1))\n",
       "    (conv2): Conv2d(64, 64, kernel_size=(1, 3), stride=(1, 1))\n",
       "    (conv3): Conv2d(64, 64, kernel_size=(1, 3), stride=(1, 1))\n",
       "  )\n",
       "  (fc_out): Linear(in_features=896, out_features=24, bias=True)\n",
       ")"
      ]
     },
     "execution_count": 14,
     "metadata": {},
     "output_type": "execute_result"
    }
   ],
   "source": [
    "# Model init\n",
    "num_nodes = val_dataset.target.shape[1]\n",
    "num_features = val_dataset.inputs.shape[3]\n",
    "\n",
    "Gnet = STGCN(num_nodes,\n",
    "             num_features,\n",
    "             args.historical_input,\n",
    "             args.forecast_output).to(device=args.device)\n",
    "\n",
    "model = loadCheckpoint(Gnet, filename = \"baselineSTGCN.pth\", folder = '../savedModels')\n",
    "model"
   ]
  },
  {
   "cell_type": "code",
   "execution_count": 15,
   "metadata": {},
   "outputs": [
    {
     "name": "stdout",
     "output_type": "stream",
     "text": [
      "Mean Absolute Error: 0.024304550141096115\n",
      "Mean Squared Error: 0.001970664830878377\n",
      "Root Mean Squared Error: 0.044350262731313705\n"
     ]
    }
   ],
   "source": [
    "# Get Predictions\n",
    "val_predictions = []\n",
    "val_target = []\n",
    "\n",
    "mae_list = []\n",
    "mse_list = []\n",
    "rmse_list = []\n",
    "\n",
    "with torch.no_grad():\n",
    "    Gnet.eval()\n",
    "    for vbatch_idx, (vfeatures, vtarget) in enumerate(val_loader):\n",
    "        vfeatures = vfeatures.to(args.device)\n",
    "        vtarget = vtarget.to(args.device)\n",
    "\n",
    "        # predict \n",
    "        vpreds = Gnet(vfeatures, adj_norm)\n",
    "        mse_loss = mse_criterion(vpreds, vtarget)\n",
    "        mae_loss = mae_criterion(vpreds, vtarget)\n",
    "        rmse_loss = torch.sqrt(mse_criterion(vpreds, vtarget))\n",
    "\n",
    "        # storage and tracking\n",
    "        mse_list.append(mse_loss.detach().cpu().numpy())\n",
    "        mae_list.append(mae_loss.detach().cpu().numpy())\n",
    "        rmse_list.append(rmse_loss.detach().cpu().numpy())\n",
    "        \n",
    "        # store preds and target in correct order\n",
    "        np_vpreds = vpreds.detach().cpu().numpy()\n",
    "        np_vtarget = vtarget.detach().cpu().numpy()\n",
    "        val_predictions.append(np_vpreds)\n",
    "        val_target.append(np_vtarget)\n",
    "        \n",
    "val_predictions = np.concatenate(val_predictions)\n",
    "val_target = np.concatenate(val_target)\n",
    "\n",
    "mae = np.mean(mae_list)\n",
    "mse = np.mean(mse_list)\n",
    "rmse = np.mean(rmse_list)\n",
    "\n",
    "print(f\"Mean Absolute Error: {mae}\")\n",
    "print(f\"Mean Squared Error: {mse}\")\n",
    "print(f\"Root Mean Squared Error: {rmse}\")"
   ]
  },
  {
   "cell_type": "markdown",
   "metadata": {},
   "source": [
    "The predictions are all the same - what the hell"
   ]
  },
  {
   "cell_type": "code",
   "execution_count": 70,
   "metadata": {},
   "outputs": [
    {
     "data": {
      "text/plain": [
       "(tensor([0.0263, 0.0250, 0.0245, 0.0245, 0.0252, 0.0291, 0.0341, 0.0370, 0.0375,\n",
       "         0.0373, 0.0377, 0.0379, 0.0372, 0.0369, 0.0369, 0.0377, 0.0391, 0.0392,\n",
       "         0.0380, 0.0357, 0.0331, 0.0308, 0.0300, 0.0278], device='cuda:0'),\n",
       " tensor([0.0431, 0.0409, 0.0401, 0.0401, 0.0414, 0.0478, 0.0559, 0.0607, 0.0616,\n",
       "         0.0612, 0.0618, 0.0621, 0.0610, 0.0605, 0.0605, 0.0618, 0.0640, 0.0642,\n",
       "         0.0622, 0.0585, 0.0543, 0.0504, 0.0491, 0.0455], device='cuda:0'))"
      ]
     },
     "execution_count": 70,
     "metadata": {},
     "output_type": "execute_result"
    }
   ],
   "source": [
    "vfeatures[0,0,:,-1], vfeatures[0,1,:,-1]"
   ]
  },
  {
   "cell_type": "code",
   "execution_count": 75,
   "metadata": {},
   "outputs": [
    {
     "data": {
      "text/plain": [
       "(array([ 0.03556825, -0.00156847, -0.00538399,  0.0025808 ,  0.00364168,\n",
       "         0.00386901,  0.04260363,  0.03098296,  0.0400468 ,  0.02555226,\n",
       "         0.03576271,  0.00940185,  0.03786626,  0.00034682,  0.00034512,\n",
       "         0.00786954,  0.0056011 ,  0.03021113,  0.04325235,  0.00515254,\n",
       "         0.00128467,  0.02543543,  0.00526418,  0.04020264], dtype=float32),\n",
       " array([ 0.03909039, -0.00504502, -0.00957315, -0.00017934,  0.0008403 ,\n",
       "         0.00077141,  0.04658266,  0.03255105,  0.04323107,  0.02590665,\n",
       "         0.03807376,  0.00676422,  0.04073705, -0.00386231, -0.00381224,\n",
       "         0.00514574,  0.00235931,  0.03159661,  0.04716767,  0.00195021,\n",
       "        -0.00250572,  0.02643528,  0.00268239,  0.04448217], dtype=float32))"
      ]
     },
     "execution_count": 75,
     "metadata": {},
     "output_type": "execute_result"
    }
   ],
   "source": [
    "val_predictions[0][0], val_predictions[0][100]"
   ]
  },
  {
   "cell_type": "code",
   "execution_count": 76,
   "metadata": {},
   "outputs": [
    {
     "data": {
      "image/png": "[encoded data removed]",
      "text/plain": [
       "<Figure size 432x288 with 1 Axes>"
      ]
     },
     "metadata": {
      "needs_background": "light"
     },
     "output_type": "display_data"
    }
   ],
   "source": [
    "plotPredVsTrue(val_target, val_predictions, 0, 100)"
   ]
  },
  {
   "cell_type": "code",
   "execution_count": 77,
   "metadata": {},
   "outputs": [
    {
     "data": {
      "image/png": "[encoded data removed]",
      "text/plain": [
       "<Figure size 432x288 with 1 Axes>"
      ]
     },
     "metadata": {
      "needs_background": "light"
     },
     "output_type": "display_data"
    }
   ],
   "source": [
    "plotPredVsTrue(val_target, val_predictions, 0, 1)"
   ]
  },
  {
   "cell_type": "code",
   "execution_count": 37,
   "metadata": {},
   "outputs": [
    {
     "data": {
      "image/png": "[encoded data removed]",
      "text/plain": [
       "<Figure size 432x288 with 1 Axes>"
      ]
     },
     "metadata": {
      "needs_background": "light"
     },
     "output_type": "display_data"
    }
   ],
   "source": [
    "plotPredVsTrue(val_target, val_predictions, 10, 8)"
   ]
  },
  {
   "cell_type": "code",
   "execution_count": null,
   "metadata": {},
   "outputs": [],
   "source": []
  }
 ],
 "metadata": {
  "kernelspec": {
   "display_name": "Python 3",
   "language": "python",
   "name": "python3"
  },
  "language_info": {
   "codemirror_mode": {
    "name": "ipython",
    "version": 3
   },
   "file_extension": ".py",
   "mimetype": "text/x-python",
   "name": "python",
   "nbconvert_exporter": "python",
   "pygments_lexer": "ipython3",
   "version": "3.7.0"
  }
 },
 "nbformat": 4,
 "nbformat_minor": 2
}
