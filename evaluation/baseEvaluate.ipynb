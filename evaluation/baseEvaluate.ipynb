{
 "cells": [
  {
   "cell_type": "markdown",
   "metadata": {},
   "source": [
    "# Evaluates our Base Model\n",
    "I have not implemented a test set yet so this uses the validation set\n",
    "and just generates some basic stats and pictures "
   ]
  },
  {
   "cell_type": "code",
   "execution_count": 1,
   "metadata": {},
   "outputs": [],
   "source": [
    "%load_ext autoreload\n",
    "%autoreload 2"
   ]
  },
  {
   "cell_type": "code",
   "execution_count": 1,
   "metadata": {},
   "outputs": [],
   "source": [
    "import os\n",
    "import pandas as pd\n",
    "import numpy as np\n",
    "import torch\n",
    "from torch.utils.data import DataLoader\n",
    "import torch.nn as nn\n",
    "from datetime import datetime\n",
    "import re\n",
    "import importlib\n",
    "\n",
    "import sys\n",
    "sys.path.append(\"..\")\n",
    "\n",
    "from modelUtils import loadCheckpoint, plotPredVsTrue, dotDict\n",
    "from dataUtils import loadEnergyData, processData, energyDataset, getDatasets, normalizeAdjMat\n",
    "from models.baseSTGCN import STGCN"
   ]
  },
  {
   "cell_type": "code",
   "execution_count": 2,
   "metadata": {},
   "outputs": [
    {
     "name": "stdout",
     "output_type": "stream",
     "text": [
      "{'historical_input': 24, 'forecast_output': 24, 'subset_feats': ['load', 'node', 'solar_ecmwf'], 'save_seq': False, 'load_seq': True, 'seq_path': './data/processed/nodeSequences', 'processing_function': <function processData at 0x000001D5CD424158>, 'device': 'cuda', 'epochs': 100, 'batch_size': 64, 'lr': 0.001, 'steps': 50, 'model_name': 'test_models.pth'}\n"
     ]
    }
   ],
   "source": [
    "# params\n",
    "torch.manual_seed(0)\n",
    "np.random.seed(0)\n",
    "\n",
    "##### Load our args\n",
    "config_file = \"testing_config\"\n",
    "c = importlib.import_module(\"configs.\"+config_file)\n",
    "args = c.args\n",
    "\n",
    "print(args)\n",
    "\n",
    "# update args for evaluation purposes\n",
    "args.save_seq = False\n",
    "args.load_seq = True\n",
    "args.seq_path = os.path.join(\".\" + args.seq_path)#, \"testingOnly\")\n",
    "\n",
    "\n",
    "processed_dir = \"../data/processed/\"\n",
    "\n",
    "# loss functions to compute\n",
    "mae_criterion = nn.L1Loss()\n",
    "mse_criterion = nn.MSELoss()"
   ]
  },
  {
   "cell_type": "code",
   "execution_count": 4,
   "metadata": {},
   "outputs": [
    {
     "name": "stderr",
     "output_type": "stream",
     "text": [
      "C:\\Users\\ABell\\Anaconda3\\lib\\site-packages\\pyarrow\\pandas_compat.py:708: FutureWarning: .labels was deprecated in version 0.24.0. Use .codes instead.\n",
      "  labels = getattr(columns, 'labels', None) or [\n",
      "C:\\Users\\ABell\\Anaconda3\\lib\\site-packages\\pyarrow\\pandas_compat.py:735: FutureWarning: the 'labels' keyword is deprecated, use 'codes' instead\n",
      "  return pd.MultiIndex(levels=new_levels, labels=labels, names=columns.names)\n",
      "C:\\Users\\ABell\\Anaconda3\\lib\\site-packages\\pyarrow\\pandas_compat.py:752: FutureWarning: .labels was deprecated in version 0.24.0. Use .codes instead.\n",
      "  labels, = index.labels\n"
     ]
    },
    {
     "data": {
      "text/html": [
       "<div>\n",
       "<style scoped>\n",
       "    .dataframe tbody tr th:only-of-type {\n",
       "        vertical-align: middle;\n",
       "    }\n",
       "\n",
       "    .dataframe tbody tr th {\n",
       "        vertical-align: top;\n",
       "    }\n",
       "\n",
       "    .dataframe thead th {\n",
       "        text-align: right;\n",
       "    }\n",
       "</style>\n",
       "<table border=\"1\" class=\"dataframe\">\n",
       "  <thead>\n",
       "    <tr style=\"text-align: right;\">\n",
       "      <th></th>\n",
       "      <th>hour</th>\n",
       "      <th>dow</th>\n",
       "      <th>month</th>\n",
       "      <th>year</th>\n",
       "      <th>holiday</th>\n",
       "      <th>voltage</th>\n",
       "      <th>solar_cosmo</th>\n",
       "      <th>solar_ecmwf</th>\n",
       "      <th>wind_cosmo</th>\n",
       "      <th>wind_ecmwf</th>\n",
       "      <th>load</th>\n",
       "    </tr>\n",
       "  </thead>\n",
       "  <tbody>\n",
       "    <tr>\n",
       "      <th>count</th>\n",
       "      <td>499776.000000</td>\n",
       "      <td>499776.000000</td>\n",
       "      <td>499776.000000</td>\n",
       "      <td>499776.000000</td>\n",
       "      <td>499776.000000</td>\n",
       "      <td>499776.0</td>\n",
       "      <td>499757.000000</td>\n",
       "      <td>499776.000000</td>\n",
       "      <td>499776.000000</td>\n",
       "      <td>499776.000000</td>\n",
       "      <td>499776.000000</td>\n",
       "    </tr>\n",
       "    <tr>\n",
       "      <th>mean</th>\n",
       "      <td>11.500000</td>\n",
       "      <td>2.997263</td>\n",
       "      <td>6.521898</td>\n",
       "      <td>2012.999088</td>\n",
       "      <td>0.028285</td>\n",
       "      <td>380.0</td>\n",
       "      <td>0.249442</td>\n",
       "      <td>0.293798</td>\n",
       "      <td>0.158365</td>\n",
       "      <td>0.132349</td>\n",
       "      <td>198.752987</td>\n",
       "    </tr>\n",
       "    <tr>\n",
       "      <th>std</th>\n",
       "      <td>6.922193</td>\n",
       "      <td>2.001596</td>\n",
       "      <td>3.448990</td>\n",
       "      <td>0.816683</td>\n",
       "      <td>0.165785</td>\n",
       "      <td>0.0</td>\n",
       "      <td>0.374604</td>\n",
       "      <td>0.420520</td>\n",
       "      <td>0.181058</td>\n",
       "      <td>0.161001</td>\n",
       "      <td>286.553368</td>\n",
       "    </tr>\n",
       "    <tr>\n",
       "      <th>min</th>\n",
       "      <td>0.000000</td>\n",
       "      <td>0.000000</td>\n",
       "      <td>1.000000</td>\n",
       "      <td>2012.000000</td>\n",
       "      <td>0.000000</td>\n",
       "      <td>380.0</td>\n",
       "      <td>0.000000</td>\n",
       "      <td>0.000000</td>\n",
       "      <td>0.001300</td>\n",
       "      <td>0.000800</td>\n",
       "      <td>5.869500</td>\n",
       "    </tr>\n",
       "    <tr>\n",
       "      <th>25%</th>\n",
       "      <td>5.750000</td>\n",
       "      <td>1.000000</td>\n",
       "      <td>4.000000</td>\n",
       "      <td>2012.000000</td>\n",
       "      <td>0.000000</td>\n",
       "      <td>380.0</td>\n",
       "      <td>0.000000</td>\n",
       "      <td>0.000000</td>\n",
       "      <td>0.029700</td>\n",
       "      <td>0.023500</td>\n",
       "      <td>58.023800</td>\n",
       "    </tr>\n",
       "    <tr>\n",
       "      <th>50%</th>\n",
       "      <td>11.500000</td>\n",
       "      <td>3.000000</td>\n",
       "      <td>7.000000</td>\n",
       "      <td>2013.000000</td>\n",
       "      <td>0.000000</td>\n",
       "      <td>380.0</td>\n",
       "      <td>0.000000</td>\n",
       "      <td>0.000000</td>\n",
       "      <td>0.087700</td>\n",
       "      <td>0.070500</td>\n",
       "      <td>104.943300</td>\n",
       "    </tr>\n",
       "    <tr>\n",
       "      <th>75%</th>\n",
       "      <td>17.250000</td>\n",
       "      <td>5.000000</td>\n",
       "      <td>10.000000</td>\n",
       "      <td>2014.000000</td>\n",
       "      <td>0.000000</td>\n",
       "      <td>380.0</td>\n",
       "      <td>0.460600</td>\n",
       "      <td>0.605100</td>\n",
       "      <td>0.222000</td>\n",
       "      <td>0.177300</td>\n",
       "      <td>207.683200</td>\n",
       "    </tr>\n",
       "    <tr>\n",
       "      <th>max</th>\n",
       "      <td>23.000000</td>\n",
       "      <td>6.000000</td>\n",
       "      <td>12.000000</td>\n",
       "      <td>2014.000000</td>\n",
       "      <td>1.000000</td>\n",
       "      <td>380.0</td>\n",
       "      <td>1.369200</td>\n",
       "      <td>1.454100</td>\n",
       "      <td>0.999600</td>\n",
       "      <td>0.999200</td>\n",
       "      <td>1923.441300</td>\n",
       "    </tr>\n",
       "  </tbody>\n",
       "</table>\n",
       "</div>"
      ],
      "text/plain": [
       "                hour            dow          month           year  \\\n",
       "count  499776.000000  499776.000000  499776.000000  499776.000000   \n",
       "mean       11.500000       2.997263       6.521898    2012.999088   \n",
       "std         6.922193       2.001596       3.448990       0.816683   \n",
       "min         0.000000       0.000000       1.000000    2012.000000   \n",
       "25%         5.750000       1.000000       4.000000    2012.000000   \n",
       "50%        11.500000       3.000000       7.000000    2013.000000   \n",
       "75%        17.250000       5.000000      10.000000    2014.000000   \n",
       "max        23.000000       6.000000      12.000000    2014.000000   \n",
       "\n",
       "             holiday   voltage    solar_cosmo    solar_ecmwf     wind_cosmo  \\\n",
       "count  499776.000000  499776.0  499757.000000  499776.000000  499776.000000   \n",
       "mean        0.028285     380.0       0.249442       0.293798       0.158365   \n",
       "std         0.165785       0.0       0.374604       0.420520       0.181058   \n",
       "min         0.000000     380.0       0.000000       0.000000       0.001300   \n",
       "25%         0.000000     380.0       0.000000       0.000000       0.029700   \n",
       "50%         0.000000     380.0       0.000000       0.000000       0.087700   \n",
       "75%         0.000000     380.0       0.460600       0.605100       0.222000   \n",
       "max         1.000000     380.0       1.369200       1.454100       0.999600   \n",
       "\n",
       "          wind_ecmwf           load  \n",
       "count  499776.000000  499776.000000  \n",
       "mean        0.132349     198.752987  \n",
       "std         0.161001     286.553368  \n",
       "min         0.000800       5.869500  \n",
       "25%         0.023500      58.023800  \n",
       "50%         0.070500     104.943300  \n",
       "75%         0.177300     207.683200  \n",
       "max         0.999200    1923.441300  "
      ]
     },
     "execution_count": 4,
     "metadata": {},
     "output_type": "execute_result"
    }
   ],
   "source": [
    "energy_demand, adj_mat = loadEnergyData(processed_dir, incl_nodes = 20, partial = True)\n",
    "energy_demand.describe()"
   ]
  },
  {
   "cell_type": "code",
   "execution_count": 4,
   "metadata": {},
   "outputs": [
    {
     "name": "stderr",
     "output_type": "stream",
     "text": [
      "C:\\Users\\ABell\\Anaconda3\\lib\\site-packages\\pyarrow\\pandas_compat.py:708: FutureWarning: .labels was deprecated in version 0.24.0. Use .codes instead.\n",
      "  labels = getattr(columns, 'labels', None) or [\n",
      "C:\\Users\\ABell\\Anaconda3\\lib\\site-packages\\pyarrow\\pandas_compat.py:735: FutureWarning: the 'labels' keyword is deprecated, use 'codes' instead\n",
      "  return pd.MultiIndex(levels=new_levels, labels=labels, names=columns.names)\n",
      "C:\\Users\\ABell\\Anaconda3\\lib\\site-packages\\pyarrow\\pandas_compat.py:752: FutureWarning: .labels was deprecated in version 0.24.0. Use .codes instead.\n",
      "  labels, = index.labels\n",
      "..\\dataUtils.py:101: RuntimeWarning: divide by zero encountered in power\n",
      "  D_norm = D**(-(1/2))\n"
     ]
    },
    {
     "data": {
      "text/plain": [
       "(torch.Size([90, 225, 24, 2]),\n",
       " torch.Size([90, 225, 24]),\n",
       " torch.Size([225, 225]))"
      ]
     },
     "execution_count": 4,
     "metadata": {},
     "output_type": "execute_result"
    }
   ],
   "source": [
    "# Get validation data\n",
    "if args.load_seq:\n",
    "    # get number of nodes to include\n",
    "    files = os.listdir(args.seq_path)\n",
    "    incl_nodes = max([int(re.search(\"\\d{1,5}\", f).group(0)) for f in files if re.search(\"\\d\", f)])\n",
    "    _, adj_mat = loadEnergyData(processed_dir, incl_nodes = incl_nodes, partial = False)\n",
    "    energy_demand = None\n",
    "else:\n",
    "    energy_demand, adj_mat = loadEnergyData(processed_dir, incl_nodes = 20, partial = True)\n",
    "\n",
    "_, val_dataset = getDatasets(args, energy_demand, validation_only = True)\n",
    "\n",
    "val_loader = DataLoader(val_dataset, batch_size=args['batch_size'], shuffle=False)\n",
    "\n",
    "\n",
    "# normalized adjacency matrix with self loop\n",
    "adj_norm = normalizeAdjMat(adj_mat)\n",
    "adj_norm = adj_norm.to(args['device']) \n",
    "\n",
    "val_dataset.inputs.shape, val_dataset.target.shape, adj_norm.shape"
   ]
  },
  {
   "cell_type": "code",
   "execution_count": 21,
   "metadata": {},
   "outputs": [
    {
     "data": {
      "text/plain": [
       "STGCN(\n",
       "  (block1): spatioTemporalBlock(\n",
       "    (t1): temporalConv(\n",
       "      (conv1): Conv2d(2, 64, kernel_size=(1, 3), stride=(1, 1))\n",
       "      (conv2): Conv2d(2, 64, kernel_size=(1, 3), stride=(1, 1))\n",
       "      (conv3): Conv2d(2, 64, kernel_size=(1, 3), stride=(1, 1))\n",
       "    )\n",
       "    (t2): temporalConv(\n",
       "      (conv1): Conv2d(16, 64, kernel_size=(1, 3), stride=(1, 1))\n",
       "      (conv2): Conv2d(16, 64, kernel_size=(1, 3), stride=(1, 1))\n",
       "      (conv3): Conv2d(16, 64, kernel_size=(1, 3), stride=(1, 1))\n",
       "    )\n",
       "    (batch_norm): BatchNorm2d(225, eps=1e-05, momentum=0.1, affine=True, track_running_stats=True)\n",
       "  )\n",
       "  (block2): spatioTemporalBlock(\n",
       "    (t1): temporalConv(\n",
       "      (conv1): Conv2d(64, 64, kernel_size=(1, 3), stride=(1, 1))\n",
       "      (conv2): Conv2d(64, 64, kernel_size=(1, 3), stride=(1, 1))\n",
       "      (conv3): Conv2d(64, 64, kernel_size=(1, 3), stride=(1, 1))\n",
       "    )\n",
       "    (t2): temporalConv(\n",
       "      (conv1): Conv2d(16, 64, kernel_size=(1, 3), stride=(1, 1))\n",
       "      (conv2): Conv2d(16, 64, kernel_size=(1, 3), stride=(1, 1))\n",
       "      (conv3): Conv2d(16, 64, kernel_size=(1, 3), stride=(1, 1))\n",
       "    )\n",
       "    (batch_norm): BatchNorm2d(225, eps=1e-05, momentum=0.1, affine=True, track_running_stats=True)\n",
       "  )\n",
       "  (final_temporal): temporalConv(\n",
       "    (conv1): Conv2d(64, 64, kernel_size=(1, 3), stride=(1, 1))\n",
       "    (conv2): Conv2d(64, 64, kernel_size=(1, 3), stride=(1, 1))\n",
       "    (conv3): Conv2d(64, 64, kernel_size=(1, 3), stride=(1, 1))\n",
       "  )\n",
       "  (fc_out): Linear(in_features=896, out_features=24, bias=True)\n",
       ")"
      ]
     },
     "execution_count": 21,
     "metadata": {},
     "output_type": "execute_result"
    }
   ],
   "source": [
    "# Model init\n",
    "num_nodes = val_dataset.target.shape[1]\n",
    "num_features = val_dataset.inputs.shape[3]\n",
    "\n",
    "Gnet = STGCN(num_nodes,\n",
    "             num_features,\n",
    "             args.historical_input,\n",
    "             args.forecast_output).to(device=args.device)\n",
    "\n",
    "model = loadCheckpoint(Gnet, filename = \"baselineSTGCN_225.pth\", folder = '../savedModels')\n",
    "model"
   ]
  },
  {
   "cell_type": "code",
   "execution_count": 22,
   "metadata": {},
   "outputs": [
    {
     "name": "stdout",
     "output_type": "stream",
     "text": [
      "Mean Absolute Error: 0.0038868426345288754\n",
      "Mean Squared Error: 6.621744978474453e-05\n",
      "Root Mean Squared Error: 0.008109543472528458\n"
     ]
    }
   ],
   "source": [
    "# Get Predictions\n",
    "val_predictions = []\n",
    "val_target = []\n",
    "\n",
    "mae_list = []\n",
    "mse_list = []\n",
    "rmse_list = []\n",
    "\n",
    "with torch.no_grad():\n",
    "    Gnet.eval()\n",
    "    for vbatch_idx, (vfeatures, vtarget) in enumerate(val_loader):\n",
    "        vfeatures = vfeatures.to(args.device)\n",
    "        vtarget = vtarget.to(args.device)\n",
    "\n",
    "        # predict \n",
    "        vpreds = Gnet(vfeatures, adj_norm)\n",
    "        mse_loss = mse_criterion(vpreds, vtarget)\n",
    "        mae_loss = mae_criterion(vpreds, vtarget)\n",
    "        rmse_loss = torch.sqrt(mse_criterion(vpreds, vtarget))\n",
    "\n",
    "        # storage and tracking\n",
    "        mse_list.append(mse_loss.detach().cpu().numpy())\n",
    "        mae_list.append(mae_loss.detach().cpu().numpy())\n",
    "        rmse_list.append(rmse_loss.detach().cpu().numpy())\n",
    "        \n",
    "        # store preds and target in correct order\n",
    "        np_vpreds = vpreds.detach().cpu().numpy()\n",
    "        np_vtarget = vtarget.detach().cpu().numpy()\n",
    "        val_predictions.append(np_vpreds)\n",
    "        val_target.append(np_vtarget)\n",
    "        \n",
    "val_predictions = np.concatenate(val_predictions)\n",
    "val_target = np.concatenate(val_target)\n",
    "\n",
    "mae = np.mean(mae_list)\n",
    "mse = np.mean(mse_list)\n",
    "rmse = np.mean(rmse_list)\n",
    "\n",
    "print(f\"Mean Absolute Error: {mae}\")\n",
    "print(f\"Mean Squared Error: {mse}\")\n",
    "print(f\"Root Mean Squared Error: {rmse}\")"
   ]
  },
  {
   "cell_type": "code",
   "execution_count": 23,
   "metadata": {},
   "outputs": [
    {
     "data": {
      "image/png": "[encoded data removed]",
      "text/plain": [
       "<Figure size 432x288 with 1 Axes>"
      ]
     },
     "metadata": {
      "needs_background": "light"
     },
     "output_type": "display_data"
    }
   ],
   "source": [
    "plotPredVsTrue(val_target, val_predictions, 0, 100)"
   ]
  },
  {
   "cell_type": "code",
   "execution_count": 24,
   "metadata": {},
   "outputs": [
    {
     "data": {
      "image/png": "[encoded data removed]",
      "text/plain": [
       "<Figure size 432x288 with 1 Axes>"
      ]
     },
     "metadata": {
      "needs_background": "light"
     },
     "output_type": "display_data"
    }
   ],
   "source": [
    "plotPredVsTrue(val_target, val_predictions, 50, 1)"
   ]
  },
  {
   "cell_type": "code",
   "execution_count": 26,
   "metadata": {
    "scrolled": true
   },
   "outputs": [
    {
     "data": {
      "image/png": "[encoded data removed]",
      "text/plain": [
       "<Figure size 432x288 with 1 Axes>"
      ]
     },
     "metadata": {
      "needs_background": "light"
     },
     "output_type": "display_data"
    }
   ],
   "source": [
    "plotPredVsTrue(val_target, val_predictions, 9, 8)"
   ]
  },
  {
   "cell_type": "code",
   "execution_count": 27,
   "metadata": {},
   "outputs": [
    {
     "data": {
      "text/plain": [
       "(array([0.07917346, 0.07853092, 0.07833096, 0.08172408, 0.09012576,\n",
       "        0.10036021, 0.10435867, 0.10945823, 0.11199456, 0.11297072,\n",
       "        0.11320846, 0.11217947, 0.10861748, 0.10745388, 0.10620587,\n",
       "        0.10751741, 0.10972482, 0.11051109, 0.11260354, 0.10773684,\n",
       "        0.10260326, 0.09596021, 0.09059918, 0.08428212], dtype=float32),\n",
       " array([0.05679647, 0.05732238, 0.05623306, 0.05877217, 0.06408001,\n",
       "        0.07090069, 0.07379535, 0.07763509, 0.08003265, 0.08133155,\n",
       "        0.08114165, 0.08011352, 0.07733636, 0.07711726, 0.07739944,\n",
       "        0.07737508, 0.07824001, 0.07888763, 0.08107552, 0.07779659,\n",
       "        0.07416206, 0.06838623, 0.06545713, 0.06014547], dtype=float32))"
      ]
     },
     "execution_count": 27,
     "metadata": {},
     "output_type": "execute_result"
    }
   ],
   "source": [
    "val_predictions[0][0], val_predictions[0][1]"
   ]
  },
  {
   "cell_type": "code",
   "execution_count": 28,
   "metadata": {},
   "outputs": [
    {
     "data": {
      "text/plain": [
       "(array([0.08285947, 0.08219364, 0.08124665, 0.08255615, 0.09049436,\n",
       "        0.1029233 , 0.10918213, 0.11239295, 0.11511548, 0.11654332,\n",
       "        0.11912158, 0.11990948, 0.1149786 , 0.112896  , 0.11296629,\n",
       "        0.1129441 , 0.11186028, 0.11224868, 0.12000195, 0.11771962,\n",
       "        0.10664457, 0.09695297, 0.09093086, 0.08622193], dtype=float32),\n",
       " array([0.06014592, 0.0596626 , 0.05897522, 0.05992575, 0.06568794,\n",
       "        0.07470982, 0.07925297, 0.08158364, 0.08355986, 0.0845963 ,\n",
       "        0.0864678 , 0.08703972, 0.0834605 , 0.08194882, 0.08199982,\n",
       "        0.08198372, 0.08119699, 0.08147892, 0.08710685, 0.08545016,\n",
       "        0.07741102, 0.0703761 , 0.06600478, 0.06258666], dtype=float32))"
      ]
     },
     "execution_count": 28,
     "metadata": {},
     "output_type": "execute_result"
    }
   ],
   "source": [
    "val_target[0][0], val_target[0][1]"
   ]
  },
  {
   "cell_type": "code",
   "execution_count": null,
   "metadata": {},
   "outputs": [],
   "source": []
  }
 ],
 "metadata": {
  "kernelspec": {
   "display_name": "Python 3",
   "language": "python",
   "name": "python3"
  },
  "language_info": {
   "codemirror_mode": {
    "name": "ipython",
    "version": 3
   },
   "file_extension": ".py",
   "mimetype": "text/x-python",
   "name": "python",
   "nbconvert_exporter": "python",
   "pygments_lexer": "ipython3",
   "version": "3.7.0"
  }
 },
 "nbformat": 4,
 "nbformat_minor": 2
}
